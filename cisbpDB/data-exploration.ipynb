{
 "cells": [
  {
   "cell_type": "code",
   "execution_count": 2,
   "metadata": {},
   "outputs": [
    {
     "name": "stdout",
     "output_type": "stream",
     "text": [
      "          Motif_ID MSource_Identifier\n",
      "0      M00111_2.00            Badis09\n",
      "1      M00112_2.00            Badis09\n",
      "2      M00113_2.00            Badis09\n",
      "3      M00114_2.00            Badis09\n",
      "4      M02753_2.00          Jolma2013\n",
      "...            ...                ...\n",
      "95408  M11439_2.00           Transfac\n",
      "95409  M07782_2.00     Barazandeh2018\n",
      "95410            .                  .\n",
      "95411            .                  .\n",
      "95412            .                  .\n",
      "\n",
      "[95413 rows x 2 columns]\n"
     ]
    }
   ],
   "source": [
    "import pandas as pd\n",
    "import numpy as np\n",
    "\n",
    "#load TF_information from the text file and convert it to a dataframe\n",
    "cisbp_tf = pd.read_csv('TF_Information_all_motifs_plus.txt', sep='\\t')\n",
    "\n",
    "#print MSource_Identifier column and motif_ID column\n",
    "print(cisbp_tf[['Motif_ID','MSource_Identifier']])\n",
    "\n",
    "\n",
    "\n",
    "\n"
   ]
  },
  {
   "cell_type": "code",
   "execution_count": 3,
   "metadata": {},
   "outputs": [],
   "source": [
    "len(cisbp_tf)\n",
    "#print MSource_Identifier column and motif_ID column\n",
    "df = cisbp_tf[['Motif_ID','Motif_Type', 'MSource_Identifier', 'MSource_Type', 'TF_Status', 'TF_Name', 'TF_Species']]\n",
    "\n",
    "# drop rows with missing values which are denoted by .\n",
    "df = df.replace('.', np.nan).dropna()\n",
    "len(df)\n",
    "# save the dataframe as a tsv file\n",
    "df.to_csv('TF_Information_all_motifs_plus_Source-Type_cols_filtered.tsv', sep='\\t', index=False)"
   ]
  },
  {
   "attachments": {},
   "cell_type": "markdown",
   "metadata": {},
   "source": [
    "Next, we use the filtered df to search the PWM matrix file in the pwms_all_motifs folder, and return only those with the "
   ]
  }
 ],
 "metadata": {
  "kernelspec": {
   "display_name": "minimal_datasci",
   "language": "python",
   "name": "python3"
  },
  "language_info": {
   "codemirror_mode": {
    "name": "ipython",
    "version": 3
   },
   "file_extension": ".py",
   "mimetype": "text/x-python",
   "name": "python",
   "nbconvert_exporter": "python",
   "pygments_lexer": "ipython3",
   "version": "3.11.3"
  },
  "orig_nbformat": 4
 },
 "nbformat": 4,
 "nbformat_minor": 2
}
